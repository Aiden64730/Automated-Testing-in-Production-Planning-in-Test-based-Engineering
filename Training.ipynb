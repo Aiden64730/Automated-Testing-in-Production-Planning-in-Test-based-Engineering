{
 "cells": [
  {
   "cell_type": "code",
   "execution_count": null,
   "id": "ca0fb4a8",
   "metadata": {},
   "outputs": [],
   "source": [
    "import os\n",
    "from copy import copy\n",
    "import numpy as np\n",
    "import pandas as pd\n",
    "import itertools\n",
    "from string import ascii_lowercase\n",
    "from sklearn.model_selection import KFold\n",
    "\n",
    "import torch\n",
    "from torch import optim\n",
    "import torch.nn as nn\n",
    "import torch.nn.functional as F\n",
    "from torch.utils.data import DataLoader, Dataset, Subset"
   ]
  },
  {
   "cell_type": "markdown",
   "id": "313979c3",
   "metadata": {},
   "source": [
    "# Analysis the categorical variables"
   ]
  },
  {
   "cell_type": "code",
   "execution_count": null,
   "id": "6798fb4e",
   "metadata": {},
   "outputs": [],
   "source": [
    "total = set()\n",
    "df_train = pd.read_csv('./Dataset_Siemens/FinalHackathonData/train/train.csv')\n",
    "df_test = pd.read_csv('./Dataset_Siemens/FinalHackathonData/test/test.csv')\n",
    "for i in range(8):\n",
    "    total = total.union(set(df_train['X{}'.format(i+1)].unique()))\n",
    "    total = total.union(set(df_test['X{}'.format(i+1)].unique()))\n",
    "    print('X{}: '.format(i+1), set(df_train['X{}'.format(i+1)].unique()).symmetric_difference(set(df_test['X{}'.format(i+1)].unique())))\n",
    "    \n",
    "print(len(total), total)"
   ]
  },
  {
   "cell_type": "code",
   "execution_count": null,
   "id": "0c1c365c",
   "metadata": {},
   "outputs": [],
   "source": [
    "# Dictionary to map alphabet to number\n",
    "categorical_dict = {}\n",
    "def iter_all_strings():\n",
    "    for size in itertools.count(1):\n",
    "        for s in itertools.product(ascii_lowercase, repeat=size):\n",
    "            yield \"\".join(s)\n",
    "            \n",
    "for i, s in enumerate(itertools.islice(iter_all_strings(), 55)):\n",
    "    categorical_dict[s] = i"
   ]
  },
  {
   "cell_type": "markdown",
   "id": "80d21c3d",
   "metadata": {},
   "source": [
    "# Build Dataset"
   ]
  },
  {
   "cell_type": "code",
   "execution_count": null,
   "id": "6f024d6c",
   "metadata": {},
   "outputs": [],
   "source": [
    "class ASMEDataset(Dataset):\n",
    "    def __init__(self, csv_file):\n",
    "        super(ASMEDataset, self).__init__()\n",
    "        self.df = pd.read_csv(csv_file)\n",
    "        \n",
    "    def __getitem__(self, idx):\n",
    "        item = self.df.loc[idx]\n",
    "        x = item[2:].to_list()\n",
    "        y = item[1]\n",
    "        for i in range(8):\n",
    "            x[i] = categorical_dict[x[i]]\n",
    "        return torch.from_numpy(np.array(x, dtype=np.float32)), y\n",
    "    \n",
    "    def __len__(self):\n",
    "        return len(self.df)"
   ]
  },
  {
   "cell_type": "markdown",
   "id": "8ce4d0ed",
   "metadata": {},
   "source": [
    "# Build model"
   ]
  },
  {
   "cell_type": "code",
   "execution_count": null,
   "id": "5a8a977b",
   "metadata": {},
   "outputs": [],
   "source": [
    "class Net(nn.Module):\n",
    "    def __init__(self):\n",
    "        super(Net, self).__init__()\n",
    "        self.fc1 = nn.Linear(35, 100)\n",
    "        self.fc2 = nn.Linear(100, 100)\n",
    "        self.fc3 = nn.Linear(100, 1)\n",
    "        self.relu = nn.ReLU(inplace=True)\n",
    "\n",
    "    def forward(self, x):\n",
    "        x = self.relu(self.fc1(x))\n",
    "        x = self.relu(self.fc2(x))\n",
    "        x = self.fc3(x)\n",
    "        return x"
   ]
  },
  {
   "cell_type": "code",
   "execution_count": null,
   "id": "735d7e4f",
   "metadata": {
    "scrolled": false
   },
   "outputs": [],
   "source": [
    "criterion = nn.MSELoss()\n",
    "dataset = ASMEDataset('./Dataset_Siemens/FinalHackathonData/train/train.csv')\n",
    "model_path = './model'\n",
    "\n",
    "# K-fold cross-validation\n",
    "kf = KFold(n_splits=5)\n",
    "folds = kf.split(dataset)\n",
    "\n",
    "if not os.path.exists(model_path):\n",
    "    os.makedirs(model_path)\n",
    "\n",
    "for ifold, (train_idx, val_idx) in enumerate(folds):\n",
    "    print('Fold: %d' % ifold)\n",
    "    \n",
    "    net = Net()\n",
    "    optimizer = optim.Adam(net.parameters(), lr=0.001)\n",
    "    \n",
    "    train_dataset = Subset(dataset, train_idx)\n",
    "    val_dataset = Subset(copy(dataset), val_idx)\n",
    "    \n",
    "    train_loader = DataLoader(train_dataset, batch_size=8, shuffle=True)\n",
    "    val_loader = DataLoader(val_dataset, batch_size=1)\n",
    "    \n",
    "    best_val = 9999999\n",
    "    \n",
    "    for epoch in range(200):  # loop over the dataset multiple times\n",
    "        net.train()\n",
    "        running_loss = 0.0\n",
    "        for i, data in enumerate(train_loader):\n",
    "            # get the inputs; data is a list of [inputs, labels]\n",
    "            inputs, labels = data\n",
    "\n",
    "            # zero the parameter gradients\n",
    "            optimizer.zero_grad()\n",
    "            # forward + backward + optimize\n",
    "            outputs = net(inputs)\n",
    "            loss = criterion(outputs, labels.view(-1, 1))\n",
    "            loss.backward()\n",
    "            optimizer.step()\n",
    "\n",
    "            # print statistics\n",
    "            running_loss += loss.item()\n",
    "            if i % 400 == 399:    # print every mini-batches\n",
    "                print('[%d, %5d] loss: %.3f' %\n",
    "                      (epoch + 1, i + 1, running_loss / 400))\n",
    "                running_loss = 0.0\n",
    "                \n",
    "        # Validation\n",
    "        if epoch % 10 == 0:\n",
    "            running_diff = 0.0\n",
    "            net.eval()\n",
    "            with torch.no_grad():\n",
    "                for i, data in enumerate(val_loader):\n",
    "                    inputs, labels = data\n",
    "                    outputs = net(inputs)\n",
    "                    diff = F.mse_loss(outputs, labels.view(-1, 1))\n",
    "                    \n",
    "                    running_diff += diff.item()\n",
    "                print('Validation error: %3.4f' % running_diff)\n",
    "            if running_diff < best_val:\n",
    "                best_val = running_diff\n",
    "                print('Save the best model.')\n",
    "                torch.save(net.state_dict(), os.path.join(model_path, 'model_fold{}.pth'.format(ifold)))\n",
    "\n",
    "\n",
    "print('Finished Training')"
   ]
  }
 ],
 "metadata": {
  "kernelspec": {
   "display_name": "Python 3",
   "language": "python",
   "name": "python3"
  },
  "language_info": {
   "codemirror_mode": {
    "name": "ipython",
    "version": 3
   },
   "file_extension": ".py",
   "mimetype": "text/x-python",
   "name": "python",
   "nbconvert_exporter": "python",
   "pygments_lexer": "ipython3",
   "version": "3.8.11"
  }
 },
 "nbformat": 4,
 "nbformat_minor": 5
}
