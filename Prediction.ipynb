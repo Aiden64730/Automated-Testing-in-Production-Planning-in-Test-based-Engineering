{
 "cells": [
  {
   "cell_type": "code",
   "execution_count": null,
   "id": "4b1e69d5",
   "metadata": {},
   "outputs": [],
   "source": [
    "import pandas as pd\n",
    "import numpy as np\n",
    "from string import ascii_lowercase\n",
    "import itertools\n",
    "import torch\n",
    "import torch.nn as nn\n",
    "import torch.nn.functional as F\n",
    "from torch.utils.data import DataLoader, Dataset, Subset"
   ]
  },
  {
   "cell_type": "markdown",
   "id": "81b9db9d",
   "metadata": {},
   "source": [
    "# Build model"
   ]
  },
  {
   "cell_type": "code",
   "execution_count": null,
   "id": "703bae57",
   "metadata": {},
   "outputs": [],
   "source": [
    "class Net(nn.Module):\n",
    "    def __init__(self):\n",
    "        super(Net, self).__init__()\n",
    "        self.fc1 = nn.Linear(35, 100)\n",
    "        self.fc2 = nn.Linear(100, 100)\n",
    "        self.fc3 = nn.Linear(100, 1)\n",
    "        self.relu = nn.ReLU(inplace=True)\n",
    "\n",
    "    def forward(self, x):\n",
    "        x = self.relu(self.fc1(x))\n",
    "        x = self.relu(self.fc2(x))\n",
    "        x = self.fc3(x)\n",
    "        return x"
   ]
  },
  {
   "cell_type": "code",
   "execution_count": null,
   "id": "ec8ce59f",
   "metadata": {},
   "outputs": [],
   "source": [
    "# Dictionary to map alphabet to number\n",
    "categorical_dict = {}\n",
    "def iter_all_strings():\n",
    "    for size in itertools.count(1):\n",
    "        for s in itertools.product(ascii_lowercase, repeat=size):\n",
    "            yield \"\".join(s)\n",
    "            \n",
    "for i, s in enumerate(itertools.islice(iter_all_strings(), 55)):\n",
    "    categorical_dict[s] = i"
   ]
  },
  {
   "cell_type": "code",
   "execution_count": null,
   "id": "3baba811",
   "metadata": {},
   "outputs": [],
   "source": [
    "class ASMETestDataset(Dataset):\n",
    "    def __init__(self, csv_file):\n",
    "        super(ASMETestDataset, self).__init__()\n",
    "        self.df = pd.read_csv(csv_file)\n",
    "        \n",
    "    def __getitem__(self, idx):\n",
    "        item = self.df.loc[idx]\n",
    "        x = item[1:].to_list()\n",
    "        ID = item[0]\n",
    "        for i in range(8):\n",
    "            x[i] = categorical_dict[x[i]]\n",
    "        return torch.from_numpy(np.array(x, dtype=np.float32)), ID\n",
    "    \n",
    "    def __len__(self):\n",
    "        return len(self.df)"
   ]
  },
  {
   "cell_type": "code",
   "execution_count": null,
   "id": "0f11c1a3",
   "metadata": {
    "scrolled": false
   },
   "outputs": [],
   "source": [
    "dataset = ASMETestDataset('./Dataset_Siemens/FinalHackathonData/test/test.csv')\n",
    "\n",
    "predictions = pd.DataFrame(np.zeros((len(dataset), 2)), columns = ['ID', 'y'], dtype=object)\n",
    "\n",
    "for i in range(5):\n",
    "    if i == 1:\n",
    "        continue\n",
    "        \n",
    "    net = Net()\n",
    "    net.load_state_dict(torch.load('./model/model_fold{}.pth'.format(i)))\n",
    "    \n",
    "    prediction = pd.DataFrame(columns = ['ID', 'y'], dtype=object)\n",
    "    \n",
    "    with torch.no_grad():\n",
    "        for i in range(len(dataset)):\n",
    "            prediction.loc[i] = [dataset[i][1], net(dataset[i][0].unsqueeze(0)).item()]\n",
    "        \n",
    "    predictions = predictions.add(prediction)\n",
    "    \n",
    "predictions = predictions / 4"
   ]
  },
  {
   "cell_type": "code",
   "execution_count": null,
   "id": "78d04523",
   "metadata": {},
   "outputs": [],
   "source": [
    "predictions['ID'] = predictions['ID'].astype(int)\n",
    "predictions.round({'y': 2})"
   ]
  },
  {
   "cell_type": "code",
   "execution_count": null,
   "id": "32fe27f9",
   "metadata": {},
   "outputs": [],
   "source": [
    "predictions.to_csv('task1_submission_longhorn.csv', index=False)"
   ]
  }
 ],
 "metadata": {
  "kernelspec": {
   "display_name": "Python 3",
   "language": "python",
   "name": "python3"
  },
  "language_info": {
   "codemirror_mode": {
    "name": "ipython",
    "version": 3
   },
   "file_extension": ".py",
   "mimetype": "text/x-python",
   "name": "python",
   "nbconvert_exporter": "python",
   "pygments_lexer": "ipython3",
   "version": "3.8.11"
  }
 },
 "nbformat": 4,
 "nbformat_minor": 5
}
